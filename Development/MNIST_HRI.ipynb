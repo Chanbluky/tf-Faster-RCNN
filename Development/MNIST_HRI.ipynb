{
 "cells": [
  {
   "cell_type": "code",
   "execution_count": 12,
   "metadata": {
    "collapsed": true
   },
   "outputs": [],
   "source": [
    "from tensorflow.examples.tutorials.mnist import input_data\n",
    "from tqdm import tqdm\n",
    "from scipy.ndimage.interpolation import zoom\n",
    "\n",
    "import argparse\n",
    "import numpy as np\n",
    "import matplotlib.animation as animation\n",
    "import matplotlib.patches as patches\n",
    "import matplotlib.pyplot as plt\n",
    "import os\n",
    "import random\n",
    "import shutil\n",
    "import tensorflow as tf"
   ]
  },
  {
   "cell_type": "code",
   "execution_count": 2,
   "metadata": {
    "collapsed": true
   },
   "outputs": [],
   "source": [
    "flags = {\n",
    "    'nums': {\"train\": 55000, \"valid\": 5000, \"test\": 10000},\n",
    "    'all_names': [\"train\", \"valid\", \"test\"],\n",
    "    'num_classes': 10,\n",
    "}"
   ]
  },
  {
   "cell_type": "code",
   "execution_count": 3,
   "metadata": {
    "collapsed": true
   },
   "outputs": [],
   "source": [
    "def load_data():\n",
    "    \"\"\" Download MNIST data from TensorFlow package, \"\"\"\n",
    "    mnist = input_data.read_data_sets(\"MNIST_data\", one_hot=False)\n",
    "    train_data = mnist.train.images\n",
    "    test_data = mnist.test.images\n",
    "    valid_data = mnist.validation.images\n",
    "    train_label = mnist.train.labels\n",
    "    test_label = mnist.test.labels\n",
    "    valid_label = mnist.validation.labels\n",
    "    all_data = [train_data, valid_data, test_data]\n",
    "    all_labels = [train_label, valid_label, test_label]\n",
    "    return all_data, all_labels"
   ]
  },
  {
   "cell_type": "code",
   "execution_count": 4,
   "metadata": {
    "collapsed": false
   },
   "outputs": [
    {
     "name": "stdout",
     "output_type": "stream",
     "text": [
      "Successfully downloaded train-images-idx3-ubyte.gz 9912422 bytes.\n",
      "Extracting MNIST_data/train-images-idx3-ubyte.gz\n",
      "Successfully downloaded train-labels-idx1-ubyte.gz 28881 bytes.\n",
      "Extracting MNIST_data/train-labels-idx1-ubyte.gz\n",
      "Successfully downloaded t10k-images-idx3-ubyte.gz 1648877 bytes.\n",
      "Extracting MNIST_data/t10k-images-idx3-ubyte.gz\n",
      "Successfully downloaded t10k-labels-idx1-ubyte.gz 4542 bytes.\n",
      "Extracting MNIST_data/t10k-labels-idx1-ubyte.gz\n"
     ]
    }
   ],
   "source": [
    "all_data, all_labels = load_data()\n",
    "shutil.rmtree(\"MNIST_data\")\n",
    "all_names = flags['all_names']"
   ]
  },
  {
   "cell_type": "code",
   "execution_count": 5,
   "metadata": {
    "collapsed": false
   },
   "outputs": [
    {
     "data": {
      "text/plain": [
       "(55000, 784)"
      ]
     },
     "execution_count": 5,
     "metadata": {},
     "output_type": "execute_result"
    }
   ],
   "source": [
    "all_data[0].shape"
   ]
  },
  {
   "cell_type": "code",
   "execution_count": 6,
   "metadata": {
    "collapsed": false
   },
   "outputs": [
    {
     "data": {
      "text/plain": [
       "(55000,)"
      ]
     },
     "execution_count": 6,
     "metadata": {},
     "output_type": "execute_result"
    }
   ],
   "source": [
    "all_labels[0].shape"
   ]
  },
  {
   "cell_type": "code",
   "execution_count": 7,
   "metadata": {
    "collapsed": false
   },
   "outputs": [],
   "source": [
    "even_idx = np.where(np.equal(np.mod(all_labels[2], 2),0))\n",
    "odd_idx = np.where(np.mod(all_labels[2], 2))"
   ]
  },
  {
   "cell_type": "code",
   "execution_count": 8,
   "metadata": {
    "collapsed": true
   },
   "outputs": [],
   "source": [
    "def gen_nCluttered(data, labels, im_dims, num_digits):\n",
    "    # Initialize Blank image_out\n",
    "    image_out = np.zeros([im_dims, im_dims])\n",
    "    max_val = 0\n",
    "    gt_boxes = list()\n",
    "    \n",
    "    for i in range(num_digits):\n",
    "        # Choose digit\n",
    "        idx = np.random.randint(len(labels))\n",
    "        digit = data[idx,:].reshape((28,28))\n",
    "        label = labels[idx]\n",
    "        \n",
    "        # Randomly Scale image\n",
    "        h = np.random.randint(low=int(28/1.5), high=int(28*1.5))\n",
    "        w = np.random.randint(low=int(28/1.5), high=int(28*1.5))\n",
    "        digit = zoom(digit, (h/28, w/28))\n",
    "        \n",
    "        while(True):\n",
    "            # Randomly choose location in image_out\n",
    "            x = np.random.randint(low=0, high=im_dims - w)\n",
    "            y = np.random.randint(low=0, high=im_dims - h)\n",
    "        \n",
    "            # Ensure that digit doesn't overlap with another\n",
    "            if np.sum(image_out[y:y + h, x:x + w])==0:\n",
    "                break\n",
    "            \n",
    "        # Insert digit into blank full size image and get max\n",
    "        embedded = np.zeros([im_dims, im_dims])\n",
    "        embedded[y:y + h, x:x + w] += digit\n",
    "        max_val = max(embedded.max(), max_val)\n",
    "        \n",
    "        # Tighten box\n",
    "        rows = np.sum(embedded, axis=0).round(1)\n",
    "        cols = np.sum(embedded, axis=1).round(1)\n",
    "\n",
    "        left = np.nonzero(rows)[0][0]\n",
    "        right = np.nonzero(rows)[0][-1]\n",
    "        upper = np.nonzero(cols)[0][0]\n",
    "        lower = np.nonzero(cols)[0][-1]\n",
    "        \n",
    "        # If box is too narrow or too short, pad it out to >12\n",
    "        width = right - left\n",
    "        if width < 12:\n",
    "            pad = np.ceil((12 - width)/2)\n",
    "            left  = int(left - pad)\n",
    "            right = int(right + pad)\n",
    "\n",
    "        height = lower - upper\n",
    "        if height < 12:\n",
    "            pad = np.ceil((12 - height)/2)\n",
    "            upper = int(upper - pad)\n",
    "            lower = int(lower + pad)\n",
    "            \n",
    "        # Save Ground Truth Bounding boxes with Label in 4th position\n",
    "        if labels[idx] == 0:  # Faster RCNN regards 0 as background, so change the label for all zeros to 10\n",
    "            label = 10\n",
    "        gt_box = [int(left), int(upper), int(right), int(lower), int(label)]\n",
    "        \n",
    "        # Save digit insertion\n",
    "        image_out = image_out + embedded\n",
    "        gt_boxes.append(gt_box)\n",
    "    \n",
    "    # Add in clutter patches\n",
    "    for j in range(int(im_dims)):\n",
    "        # Randomly select MNIST digit\n",
    "        idx = np.random.randint(len(labels))\n",
    "        fragment = data[idx,:].reshape(28,28)\n",
    "        \n",
    "        # Randomly select patch of selected digit\n",
    "        px = np.random.randint(low=0, high=28 - 8)\n",
    "        py = np.random.randint(low=0, high=28 - 8)\n",
    "\n",
    "        # Randomly choose location to insert clutter\n",
    "        x = np.random.randint(low=0, high=im_dims - 8)\n",
    "        y = np.random.randint(low=0, high=im_dims - 8)\n",
    "        \n",
    "        # Insert digit fragment, but not on top of digits\n",
    "        if np.sum(image_out[y:(y+8), x:(x+8)]) == 0:\n",
    "            image_out[y:(y+8), x:(x+8)] += fragment[py:(py+8), px:(px+8)]\n",
    "    \n",
    "    # Normalize any over-saturated pixels\n",
    "    image_out = np.clip(image_out, 0, max_val)\n",
    "        \n",
    "    # Subtract mean from image and scale to be between -1 and 1\n",
    "    image_out -= image_out.mean()\n",
    "    image_out = image_out / np.abs(image_out).max()\n",
    "\n",
    "    return image_out, gt_boxes"
   ]
  },
  {
   "cell_type": "code",
   "execution_count": 9,
   "metadata": {
    "collapsed": false
   },
   "outputs": [],
   "source": [
    "im, gt = gen_nCluttered(all_data[0], all_labels[0], 128, 3)"
   ]
  },
  {
   "cell_type": "code",
   "execution_count": 10,
   "metadata": {
    "collapsed": false
   },
   "outputs": [
    {
     "data": {
      "image/png": "[encoded data removed]",
      "text/plain": [
       "<matplotlib.figure.Figure at 0x7f50e07f7cc0>"
      ]
     },
     "metadata": {},
     "output_type": "display_data"
    },
    {
     "name": "stdout",
     "output_type": "stream",
     "text": [
      "[[76, 30, 100, 49, 10], [50, 72, 80, 94, 3], [55, 6, 67, 32, 9]]\n"
     ]
    }
   ],
   "source": [
    "fig, ax = plt.subplots(1)\n",
    "ax.imshow(im)\n",
    "\n",
    "for gt_box in gt:\n",
    "    height = gt_box[3] - gt_box[1]\n",
    "    width = gt_box[2] - gt_box[0]\n",
    "    rect = patches.Rectangle((gt_box[0], gt_box[1]), width, height, linewidth=2, edgecolor='r', facecolor='none')\n",
    "    ax.add_patch(rect)\n",
    "plt.show()\n",
    "print(gt)"
   ]
  },
  {
   "cell_type": "code",
   "execution_count": 11,
   "metadata": {
    "collapsed": false
   },
   "outputs": [
    {
     "name": "stdout",
     "output_type": "stream",
     "text": [
      "[10  3  9]\n",
      "[ True False False]\n"
     ]
    }
   ],
   "source": [
    "gen_labels = np.array(gt)[:,4]\n",
    "gen_evens = np.equal(np.mod(gen_labels, 2),0)\n",
    "\n",
    "print(gen_labels)\n",
    "print(gen_evens)"
   ]
  },
  {
   "cell_type": "code",
   "execution_count": 23,
   "metadata": {
    "collapsed": false
   },
   "outputs": [],
   "source": [
    "data_dir = '../Data/HRI_clutteredMNIST/Test/Images/'\n",
    "\n",
    "#vid_np = np.zeros((128,128,600))\n",
    "\n",
    "fig = plt.figure()\n",
    "ims = []\n",
    "for i in range(600):\n",
    "    img = np.load(data_dir + 'img' + str(i+1) + '.npy')\n",
    "    im = plt.imshow(img, animated=True)\n",
    "    ims.append([im])\n",
    "\n",
    "ani = animation.ArtistAnimation(fig, ims, interval=1000, repeat_delay=1000)\n",
    "\n",
    "ani.save(data_dir + '../control.mp4')\n",
    "    \n",
    "#fig = plt.figure()\n",
    "#ax = fig.addsubplot(111)\n",
    "#ax.set_aspect('equal')\n",
    "\n",
    "#im = ax.imshow(vid_np[:,:,0])\n",
    "\n",
    "#def update_img(n):\n",
    "#    im.set_data(vid_np[:,:,])\n",
    "\n",
    "#ani = animation.FuncAnimation(fig,update_img,)"
   ]
  }
 ],
 "metadata": {
  "anaconda-cloud": {},
  "kernelspec": {
   "display_name": "Python [conda env:tensorflow]",
   "language": "python",
   "name": "conda-env-tensorflow-py"
  },
  "language_info": {
   "codemirror_mode": {
    "name": "ipython",
    "version": 3
   },
   "file_extension": ".py",
   "mimetype": "text/x-python",
   "name": "python",
   "nbconvert_exporter": "python",
   "pygments_lexer": "ipython3",
   "version": "3.5.2"
  }
 },
 "nbformat": 4,
 "nbformat_minor": 1
}
